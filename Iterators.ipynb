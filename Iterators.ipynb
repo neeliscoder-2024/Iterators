{
  "nbformat": 4,
  "nbformat_minor": 0,
  "metadata": {
    "colab": {
      "provenance": []
    },
    "kernelspec": {
      "name": "python3",
      "display_name": "Python 3"
    },
    "language_info": {
      "name": "python"
    }
  },
  "cells": [
    {
      "cell_type": "markdown",
      "source": [
        "1.   Built-in iterators"
      ],
      "metadata": {
        "id": "NzXQr9QwcGv2"
      }
    },
    {
      "cell_type": "code",
      "execution_count": 1,
      "metadata": {
        "colab": {
          "base_uri": "https://localhost:8080/"
        },
        "id": "AM-OvcOWWtsW",
        "outputId": "383a5010-7523-4722-c2ae-f3a66df7c985"
      },
      "outputs": [
        {
          "output_type": "stream",
          "name": "stdout",
          "text": [
            "<str_ascii_iterator object at 0x7ee0f8fce4a0>\n",
            "h\n",
            "a\n",
            "i\n"
          ]
        }
      ],
      "source": [
        "a='hai'\n",
        "# variable=iter(collection data types)\n",
        "iter_obj=iter(a)\n",
        "print(iter_obj)\n",
        "#print(next(iterable object))\n",
        "print(next(iter_obj)) # fecthing one value\n",
        "print(next(iter_obj)) # fecthing one value\n",
        "print(next(iter_obj)) # fecthing one value\n"
      ]
    },
    {
      "cell_type": "code",
      "source": [
        "a='hai'\n",
        "# variable=iter(collection data types)\n",
        "iter_obj=iter(a)\n",
        "print(iter_obj)\n",
        "#print(next(iterable object))\n",
        "print(next(iter_obj)) # fecthing one value\n",
        "print(next(iter_obj)) # fecthing one value\n",
        "print(next(iter_obj)) # fecthing one value\n",
        "print(next(iter_obj)) # fecthing one value\n",
        "#Stop iteration exception is raised"
      ],
      "metadata": {
        "colab": {
          "base_uri": "https://localhost:8080/",
          "height": 263
        },
        "id": "57gVgDKzYoEI",
        "outputId": "aaab4bf5-15c1-4234-bb9b-585eecc20176"
      },
      "execution_count": 2,
      "outputs": [
        {
          "output_type": "stream",
          "name": "stdout",
          "text": [
            "<str_ascii_iterator object at 0x7ee0f8fcd510>\n",
            "h\n",
            "a\n",
            "i\n"
          ]
        },
        {
          "output_type": "error",
          "ename": "StopIteration",
          "evalue": "",
          "traceback": [
            "\u001b[0;31m---------------------------------------------------------------------------\u001b[0m",
            "\u001b[0;31mStopIteration\u001b[0m                             Traceback (most recent call last)",
            "\u001b[0;32m/tmp/ipython-input-2-3966692955.py\u001b[0m in \u001b[0;36m<cell line: 0>\u001b[0;34m()\u001b[0m\n\u001b[1;32m      7\u001b[0m \u001b[0mprint\u001b[0m\u001b[0;34m(\u001b[0m\u001b[0mnext\u001b[0m\u001b[0;34m(\u001b[0m\u001b[0miter_obj\u001b[0m\u001b[0;34m)\u001b[0m\u001b[0;34m)\u001b[0m \u001b[0;31m# fecthing one value\u001b[0m\u001b[0;34m\u001b[0m\u001b[0;34m\u001b[0m\u001b[0m\n\u001b[1;32m      8\u001b[0m \u001b[0mprint\u001b[0m\u001b[0;34m(\u001b[0m\u001b[0mnext\u001b[0m\u001b[0;34m(\u001b[0m\u001b[0miter_obj\u001b[0m\u001b[0;34m)\u001b[0m\u001b[0;34m)\u001b[0m \u001b[0;31m# fecthing one value\u001b[0m\u001b[0;34m\u001b[0m\u001b[0;34m\u001b[0m\u001b[0m\n\u001b[0;32m----> 9\u001b[0;31m \u001b[0mprint\u001b[0m\u001b[0;34m(\u001b[0m\u001b[0mnext\u001b[0m\u001b[0;34m(\u001b[0m\u001b[0miter_obj\u001b[0m\u001b[0;34m)\u001b[0m\u001b[0;34m)\u001b[0m \u001b[0;31m# fecthing one value\u001b[0m\u001b[0;34m\u001b[0m\u001b[0;34m\u001b[0m\u001b[0m\n\u001b[0m\u001b[1;32m     10\u001b[0m \u001b[0;31m#Stop iteration exception is raised\u001b[0m\u001b[0;34m\u001b[0m\u001b[0;34m\u001b[0m\u001b[0m\n",
            "\u001b[0;31mStopIteration\u001b[0m: "
          ]
        }
      ]
    },
    {
      "cell_type": "markdown",
      "source": [
        "2.   Custom/User-Defined iterators (By using OOPS Concept)"
      ],
      "metadata": {
        "id": "Y9J6sKdUcWne"
      }
    },
    {
      "cell_type": "code",
      "source": [
        "class fibo:\n",
        "  def __init__(self,f,s,n):\n",
        "    self.a=f\n",
        "    self.b=s\n",
        "    self.n=n\n",
        "  def __iter__(self):\n",
        "      self.i=1\n",
        "      return self\n",
        "  def __next__(self):\n",
        "      if self.i<=self.n:\n",
        "        dummy=self.a\n",
        "        self.a=self.b\n",
        "        self.b=self.a+dummy\n",
        "        self.i+=1\n",
        "        return dummy\n",
        "      raise StopIteration\n",
        "f=fibo(10,12,5)\n",
        "for j in f:\n",
        "  print(j)"
      ],
      "metadata": {
        "colab": {
          "base_uri": "https://localhost:8080/"
        },
        "id": "u7NW6H8PcEBN",
        "outputId": "c70d3b3b-3a4c-4e31-b379-8e5f70713f52"
      },
      "execution_count": 3,
      "outputs": [
        {
          "output_type": "stream",
          "name": "stdout",
          "text": [
            "10\n",
            "12\n",
            "22\n",
            "34\n",
            "56\n"
          ]
        }
      ]
    },
    {
      "cell_type": "code",
      "source": [],
      "metadata": {
        "id": "J74vuIPzdvsZ"
      },
      "execution_count": null,
      "outputs": []
    }
  ]
}